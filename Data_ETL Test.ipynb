{
 "cells": [
  {
   "cell_type": "code",
   "execution_count": null,
   "id": "26866beb",
   "metadata": {},
   "outputs": [],
   "source": [
    "# -*- coding: utf-8 -*-\n",
    "\"\"\"\n",
    "Created on 02/12, 2023\n",
    "@author: WillyF\n",
    "\n",
    "\"\"\"\n",
    "\n",
    "# https://github.com/rayc2045/pokedex\n",
    "# https://github.com/DetainedDeveloper/Pokedex\n",
    "# https://raw.githubusercontent.com/DetainedDeveloper/Pokedex/master/pokedex_raw/pokedex_raw_array.json\n",
    "# https://stackoverflow.com/questions/38231591/split-explode-a-column-of-dictionaries-into-separate-columns-with-pandas\n",
    "# https://practicaldatascience.co.uk/data-science/how-to-split-a-pandas-column-string-or-list-into-separate-columns\n",
    "# https://stackoverflow.com/questions/35491274/split-a-pandas-column-of-lists-into-multiple-columns\n",
    "# https://stackoverflow.com/questions/45306988/column-of-lists-convert-list-to-string-as-a-new-column\n",
    "# https://stackoverflow.com/questions/20167930/start-index-at-1-for-pandas-dataframe\n",
    "# https://www.geeksforgeeks.org/how-to-rename-columns-in-pandas-dataframe/\n",
    "# https://sparkbyexamples.com/pandas/pandas-split-column/\n",
    "# https://stackoverflow.com/questions/61095091/how-to-strip-and-split-in-pandas\n",
    "# https://stackoverflow.com/questions/20025882/add-a-string-prefix-to-each-value-in-a-string-column-using-pandas\n",
    "\n"
   ]
  },
  {
   "cell_type": "code",
   "execution_count": 23,
   "id": "1fdbf106",
   "metadata": {},
   "outputs": [],
   "source": [
    "import pandas as pd\n",
    "import urllib.request\n",
    "import json\n",
    "import numpy as np\n",
    "# from glob import glob\n",
    "import os\n",
    "from warnings import filterwarnings\n",
    "filterwarnings(\"ignore\")\n",
    "pd.set_option('display.max_columns', 500)\n",
    "pd.set_option('display.max_rows', 500)"
   ]
  },
  {
   "cell_type": "code",
   "execution_count": null,
   "id": "895fdd96",
   "metadata": {
    "scrolled": true
   },
   "outputs": [],
   "source": [
    "species_strength = pd.read_csv(\"https://raw.githubusercontent.com/LeBronWilly/Pokemon_Info/main/data/info/Pokemon_Species_Strength.csv\", encoding='utf8')\n",
    "species_strength.index += 1 \n",
    "species_strength"
   ]
  },
  {
   "cell_type": "code",
   "execution_count": null,
   "id": "ad84e6fe",
   "metadata": {},
   "outputs": [],
   "source": [
    "type_chart = pd.read_csv(\"https://raw.githubusercontent.com/LeBronWilly/Pokemon_Info/main/data/info/Type_Chart.csv\", encoding='utf8')\n",
    "type_chart.index += 1 \n",
    "type_chart"
   ]
  },
  {
   "cell_type": "code",
   "execution_count": null,
   "id": "b65bc01e",
   "metadata": {},
   "outputs": [],
   "source": []
  },
  {
   "cell_type": "code",
   "execution_count": null,
   "id": "e6daaf8a",
   "metadata": {},
   "outputs": [],
   "source": [
    "data_source = \"https://raw.githubusercontent.com/rayc2045/pokedex/main/data/PokeApi.json\"\n",
    "data_source = \"https://raw.githubusercontent.com/LeBronWilly/Pokemon_Info/main/data/info/PokeApi.json\"\n",
    "json_url = urllib.request.urlopen(data_source)\n",
    "data = json.loads(json_url.read())"
   ]
  },
  {
   "cell_type": "code",
   "execution_count": null,
   "id": "fa32d85e",
   "metadata": {
    "scrolled": true
   },
   "outputs": [],
   "source": [
    "pokemon_data = pd.json_normalize(data)\n",
    "pokemon_data.columns = ['ID', 'Name_EN', 'Name', \"Type_EN\", \"Type\", \"Genus_EN\", \"Genus\", \"Desc_EN\", \"Desc\"]\n",
    "pokemon_data[\"Type_EN\"] = [', '.join(map(str, lst)) for lst in pokemon_data[\"Type_EN\"]]\n",
    "pokemon_data[\"Type\"] = [', '.join(map(str, lst)) for lst in pokemon_data[\"Type\"]]\n",
    "pokemon_data[\"Desc_EN\"] = ['\\n⭐️'.join(map(str, lst)) for lst in pokemon_data[\"Desc_EN\"]]\n",
    "pokemon_data[\"Desc\"] = ['\\n⭐️'.join(map(str, lst)) for lst in pokemon_data[\"Desc\"]]\n",
    "pokemon_data[\"Desc_EN\"] = \"⭐️\" + pokemon_data[\"Desc_EN\"]\n",
    "pokemon_data[\"Desc\"] = \"⭐️\" + pokemon_data[\"Desc\"]\n",
    "pokemon_data[['Type1', 'Type2']] = pokemon_data[\"Type\"].str.split(\",\", expand = True)\n",
    "pokemon_data['Type2'] = pokemon_data['Type2'].apply(lambda x: x.strip() if x != None else \"\")\n",
    "pokemon_data[\"ID_Name\"] = pokemon_data[\"ID\"].astype(str) + \". \" + pokemon_data[\"Name\"]\n",
    "pokemon_data = pokemon_data[[\"ID_Name\",'ID', 'Name', 'Name_EN', \"Type1\", \"Type2\", \"Type\", \"Type_EN\", \n",
    "                             \"Genus\", \"Genus_EN\", \"Desc\", \"Desc_EN\"]]\n",
    "pokemon_data = pokemon_data.merge(species_strength.drop(columns=[\"#\",\"Name\"]), \n",
    "                                  how=\"left\", on=\"ID\", validate=\"one_to_many\")\n",
    "pokemon_data.index += 1\n",
    "pokemon_data"
   ]
  },
  {
   "cell_type": "code",
   "execution_count": null,
   "id": "e87139e5",
   "metadata": {},
   "outputs": [],
   "source": []
  },
  {
   "cell_type": "code",
   "execution_count": null,
   "id": "832a7dbe",
   "metadata": {},
   "outputs": [],
   "source": [
    "\"\" in \"\""
   ]
  },
  {
   "cell_type": "code",
   "execution_count": null,
   "id": "1fafe38f",
   "metadata": {},
   "outputs": [],
   "source": []
  },
  {
   "cell_type": "code",
   "execution_count": null,
   "id": "259da3aa",
   "metadata": {},
   "outputs": [],
   "source": []
  },
  {
   "cell_type": "code",
   "execution_count": null,
   "id": "0fc938ec",
   "metadata": {},
   "outputs": [],
   "source": []
  },
  {
   "cell_type": "code",
   "execution_count": null,
   "id": "72d28870",
   "metadata": {},
   "outputs": [],
   "source": []
  },
  {
   "cell_type": "code",
   "execution_count": null,
   "id": "95af5a95",
   "metadata": {},
   "outputs": [],
   "source": []
  },
  {
   "cell_type": "code",
   "execution_count": null,
   "id": "76ec5933",
   "metadata": {},
   "outputs": [],
   "source": []
  },
  {
   "cell_type": "code",
   "execution_count": null,
   "id": "958f6261",
   "metadata": {},
   "outputs": [],
   "source": [
    "print(pokemon_data[\"Name\"][658])"
   ]
  },
  {
   "cell_type": "code",
   "execution_count": null,
   "id": "e11fed66",
   "metadata": {},
   "outputs": [],
   "source": [
    "print(pokemon_data[\"Desc\"][658])"
   ]
  },
  {
   "cell_type": "code",
   "execution_count": null,
   "id": "19ebf90d",
   "metadata": {},
   "outputs": [],
   "source": [
    "print(pokemon_data[\"Type1\"][658])"
   ]
  },
  {
   "cell_type": "code",
   "execution_count": null,
   "id": "5161fe74",
   "metadata": {},
   "outputs": [],
   "source": [
    "print(pokemon_data[\"Type2\"][658])"
   ]
  },
  {
   "cell_type": "code",
   "execution_count": null,
   "id": "c17f66cc",
   "metadata": {
    "scrolled": true
   },
   "outputs": [],
   "source": [
    "pokemon_data[\"CCC\"] = pokemon_data[\"Name_EN\"].apply(lambda x:len(x))\n",
    "pokemon_data.sort_values(by=[\"CCC\"], ascending=False).head()"
   ]
  },
  {
   "cell_type": "code",
   "execution_count": null,
   "id": "8000f5ab",
   "metadata": {},
   "outputs": [],
   "source": []
  },
  {
   "cell_type": "code",
   "execution_count": null,
   "id": "ab63b025",
   "metadata": {},
   "outputs": [],
   "source": []
  },
  {
   "cell_type": "code",
   "execution_count": null,
   "id": "793df55b",
   "metadata": {},
   "outputs": [],
   "source": []
  },
  {
   "cell_type": "code",
   "execution_count": null,
   "id": "fbd823f7",
   "metadata": {},
   "outputs": [],
   "source": []
  },
  {
   "cell_type": "code",
   "execution_count": null,
   "id": "f23cf6b3",
   "metadata": {},
   "outputs": [],
   "source": []
  },
  {
   "cell_type": "code",
   "execution_count": null,
   "id": "836c4e13",
   "metadata": {},
   "outputs": [],
   "source": []
  },
  {
   "cell_type": "code",
   "execution_count": null,
   "id": "762a5b28",
   "metadata": {},
   "outputs": [],
   "source": [
    "data_source = \"https://raw.githubusercontent.com/rayc2045/pokedex/main/data/PokeApi.json\"\n",
    "json_url = urllib.request.urlopen(data_source)\n",
    "data = json.loads(json_url.read())\n",
    "data"
   ]
  },
  {
   "cell_type": "code",
   "execution_count": null,
   "id": "82eb0648",
   "metadata": {},
   "outputs": [],
   "source": [
    "pokemon_data = pd.json_normalize(data)\n",
    "pokemon_data"
   ]
  },
  {
   "cell_type": "code",
   "execution_count": null,
   "id": "bf4afd08",
   "metadata": {},
   "outputs": [],
   "source": []
  },
  {
   "cell_type": "code",
   "execution_count": null,
   "id": "642d42e7",
   "metadata": {},
   "outputs": [],
   "source": []
  },
  {
   "cell_type": "code",
   "execution_count": null,
   "id": "0441e15e",
   "metadata": {},
   "outputs": [],
   "source": []
  },
  {
   "cell_type": "code",
   "execution_count": null,
   "id": "01243b09",
   "metadata": {},
   "outputs": [],
   "source": []
  },
  {
   "cell_type": "code",
   "execution_count": null,
   "id": "c75fa987",
   "metadata": {},
   "outputs": [],
   "source": []
  },
  {
   "cell_type": "code",
   "execution_count": null,
   "id": "52a4c86a",
   "metadata": {},
   "outputs": [],
   "source": []
  },
  {
   "cell_type": "code",
   "execution_count": null,
   "id": "e850e531",
   "metadata": {},
   "outputs": [],
   "source": []
  },
  {
   "cell_type": "code",
   "execution_count": null,
   "id": "5845637c",
   "metadata": {},
   "outputs": [],
   "source": []
  },
  {
   "cell_type": "code",
   "execution_count": null,
   "id": "10057f0a",
   "metadata": {},
   "outputs": [],
   "source": []
  },
  {
   "cell_type": "code",
   "execution_count": null,
   "id": "ed877314",
   "metadata": {},
   "outputs": [],
   "source": [
    "data_source = \"https://raw.githubusercontent.com/DetainedDeveloper/Pokedex/master/pokedex_raw/pokedex_raw_array.json\"\n",
    "json_url = urllib.request.urlopen(data_source)\n",
    "data = json.loads(json_url.read())\n",
    "data"
   ]
  },
  {
   "cell_type": "code",
   "execution_count": null,
   "id": "361805c1",
   "metadata": {
    "scrolled": true
   },
   "outputs": [],
   "source": [
    "pokemon_data = pd.json_normalize(data)\n",
    "pokemon_data"
   ]
  },
  {
   "cell_type": "code",
   "execution_count": null,
   "id": "c033021e",
   "metadata": {
    "scrolled": true
   },
   "outputs": [],
   "source": [
    "pokemon_data = pd.json_normalize(data)[[\"id\",\"name\",\"height\",\"weight\",\"pokemon_url\",\"abilities\",\"types\"]]\n",
    "\n",
    "pokemon_data = pd.concat([pokemon_data.drop(['abilities'], axis=1), \n",
    "                          pd.DataFrame(pokemon_data['abilities'].tolist()).fillna('').add_prefix('ability_')], axis=1)\n",
    "pokemon_data = pd.concat([pokemon_data.drop(['types'], axis=1), \n",
    "                          pd.DataFrame(pokemon_data['types'].tolist()).fillna('').add_prefix('type_')], axis=1)\n",
    "\n",
    "pokemon_data[\"ability_0\"] = pokemon_data[\"ability_0\"].apply(lambda x: x[\"name\"] if x!=\"\" else \"\")\n",
    "pokemon_data"
   ]
  },
  {
   "cell_type": "code",
   "execution_count": null,
   "id": "d6fd2bb5",
   "metadata": {
    "scrolled": true
   },
   "outputs": [],
   "source": [
    "pokemon_data[\"ability_2\"].apply(lambda x: x[\"name\"] if x!=\"\" else \"\")"
   ]
  },
  {
   "cell_type": "code",
   "execution_count": null,
   "id": "d20f0c33",
   "metadata": {},
   "outputs": [],
   "source": []
  },
  {
   "cell_type": "code",
   "execution_count": null,
   "id": "9195fdb8",
   "metadata": {},
   "outputs": [],
   "source": []
  },
  {
   "cell_type": "code",
   "execution_count": null,
   "id": "c1e1c066",
   "metadata": {},
   "outputs": [],
   "source": []
  },
  {
   "cell_type": "code",
   "execution_count": null,
   "id": "d80a3d9f",
   "metadata": {},
   "outputs": [],
   "source": []
  },
  {
   "cell_type": "code",
   "execution_count": null,
   "id": "3ebbb3b8",
   "metadata": {},
   "outputs": [],
   "source": []
  },
  {
   "cell_type": "code",
   "execution_count": null,
   "id": "ccedc0b5",
   "metadata": {},
   "outputs": [],
   "source": []
  },
  {
   "cell_type": "code",
   "execution_count": null,
   "id": "0aac75f3",
   "metadata": {},
   "outputs": [],
   "source": []
  }
 ],
 "metadata": {
  "kernelspec": {
   "display_name": "Python 3 (ipykernel)",
   "language": "python",
   "name": "python3"
  },
  "language_info": {
   "codemirror_mode": {
    "name": "ipython",
    "version": 3
   },
   "file_extension": ".py",
   "mimetype": "text/x-python",
   "name": "python",
   "nbconvert_exporter": "python",
   "pygments_lexer": "ipython3",
   "version": "3.8.12"
  }
 },
 "nbformat": 4,
 "nbformat_minor": 5
}
