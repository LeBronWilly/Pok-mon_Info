{
 "cells": [
  {
   "cell_type": "code",
   "execution_count": 1,
   "id": "26866beb",
   "metadata": {},
   "outputs": [
    {
     "data": {
      "text/plain": [
       "'\\nCreated on 02/12, 2023\\n@author: WillyF\\n\\n'"
      ]
     },
     "execution_count": 1,
     "metadata": {},
     "output_type": "execute_result"
    }
   ],
   "source": [
    "# -*- coding: utf-8 -*-\n",
    "\"\"\"\n",
    "Created on 02/12, 2023\n",
    "@author: WillyF\n",
    "\n",
    "\"\"\"\n",
    "\n",
    "# https://github.com/rayc2045/pokedex\n",
    "# https://github.com/DetainedDeveloper/Pokedex\n",
    "# https://raw.githubusercontent.com/DetainedDeveloper/Pokedex/master/pokedex_raw/pokedex_raw_array.json\n",
    "# https://stackoverflow.com/questions/38231591/split-explode-a-column-of-dictionaries-into-separate-columns-with-pandas\n",
    "# https://practicaldatascience.co.uk/data-science/how-to-split-a-pandas-column-string-or-list-into-separate-columns\n",
    "# https://stackoverflow.com/questions/35491274/split-a-pandas-column-of-lists-into-multiple-columns\n",
    "# https://stackoverflow.com/questions/45306988/column-of-lists-convert-list-to-string-as-a-new-column\n",
    "# https://stackoverflow.com/questions/20167930/start-index-at-1-for-pandas-dataframe\n",
    "# https://www.geeksforgeeks.org/how-to-rename-columns-in-pandas-dataframe/\n",
    "# https://sparkbyexamples.com/pandas/pandas-split-column/\n",
    "# https://stackoverflow.com/questions/61095091/how-to-strip-and-split-in-pandas\n",
    "# https://stackoverflow.com/questions/20025882/add-a-string-prefix-to-each-value-in-a-string-column-using-pandas\n",
    "\n"
   ]
  },
  {
   "cell_type": "code",
   "execution_count": 2,
   "id": "1fdbf106",
   "metadata": {},
   "outputs": [],
   "source": [
    "import pandas as pd\n",
    "import urllib.request\n",
    "import json\n",
    "import numpy as np\n",
    "# from glob import glob\n",
    "import os\n",
    "from warnings import filterwarnings\n",
    "filterwarnings(\"ignore\")\n",
    "pd.set_option('display.max_columns', 500)\n",
    "pd.set_option('display.max_rows', 500)"
   ]
  },
  {
   "cell_type": "code",
   "execution_count": 3,
   "id": "e6daaf8a",
   "metadata": {},
   "outputs": [],
   "source": [
    "data_source = \"https://raw.githubusercontent.com/rayc2045/pokedex/main/data/PokeApi.json\"\n",
    "data_source = \"https://raw.githubusercontent.com/LeBronWilly/Pokemon_Info/main/data/info/PokeApi.json\"\n",
    "json_url = urllib.request.urlopen(data_source)\n",
    "data = json.loads(json_url.read())"
   ]
  },
  {
   "cell_type": "code",
   "execution_count": 12,
   "id": "fa32d85e",
   "metadata": {
    "scrolled": true
   },
   "outputs": [
    {
     "data": {
      "text/html": [
       "<div>\n",
       "<style scoped>\n",
       "    .dataframe tbody tr th:only-of-type {\n",
       "        vertical-align: middle;\n",
       "    }\n",
       "\n",
       "    .dataframe tbody tr th {\n",
       "        vertical-align: top;\n",
       "    }\n",
       "\n",
       "    .dataframe thead th {\n",
       "        text-align: right;\n",
       "    }\n",
       "</style>\n",
       "<table border=\"1\" class=\"dataframe\">\n",
       "  <thead>\n",
       "    <tr style=\"text-align: right;\">\n",
       "      <th></th>\n",
       "      <th>ID_Name</th>\n",
       "      <th>ID</th>\n",
       "      <th>Name</th>\n",
       "      <th>Name_EN</th>\n",
       "      <th>Type1</th>\n",
       "      <th>Type2</th>\n",
       "      <th>Type</th>\n",
       "      <th>Type_EN</th>\n",
       "      <th>Genus</th>\n",
       "      <th>Genus_EN</th>\n",
       "      <th>Desc</th>\n",
       "      <th>Desc_EN</th>\n",
       "    </tr>\n",
       "  </thead>\n",
       "  <tbody>\n",
       "    <tr>\n",
       "      <th>1</th>\n",
       "      <td>1. 妙蛙種子</td>\n",
       "      <td>1</td>\n",
       "      <td>妙蛙種子</td>\n",
       "      <td>Bulbasaur</td>\n",
       "      <td>草</td>\n",
       "      <td>毒</td>\n",
       "      <td>草, 毒</td>\n",
       "      <td>grass, poison</td>\n",
       "      <td>種子寶可夢</td>\n",
       "      <td>Seed Pokémon</td>\n",
       "      <td>⭐️背上的種子裡存著很多營養，所以就算好幾天不吃東西也能活得好好的！\\n⭐️從出生的時候開始...</td>\n",
       "      <td>⭐️A strange seed was planted on its back at bi...</td>\n",
       "    </tr>\n",
       "    <tr>\n",
       "      <th>2</th>\n",
       "      <td>2. 妙蛙草</td>\n",
       "      <td>2</td>\n",
       "      <td>妙蛙草</td>\n",
       "      <td>Ivysaur</td>\n",
       "      <td>草</td>\n",
       "      <td>毒</td>\n",
       "      <td>草, 毒</td>\n",
       "      <td>grass, poison</td>\n",
       "      <td>種子寶可夢</td>\n",
       "      <td>Seed Pokémon</td>\n",
       "      <td>⭐️在吸收了養分後，變大的花苞開始飄出香氣時，就表示快要開花了。\\n⭐️當背上的花苞長大之後...</td>\n",
       "      <td>⭐️When the bulb on its back grows large, it ap...</td>\n",
       "    </tr>\n",
       "    <tr>\n",
       "      <th>3</th>\n",
       "      <td>3. 妙蛙花</td>\n",
       "      <td>3</td>\n",
       "      <td>妙蛙花</td>\n",
       "      <td>Venusaur</td>\n",
       "      <td>草</td>\n",
       "      <td>毒</td>\n",
       "      <td>草, 毒</td>\n",
       "      <td>grass, poison</td>\n",
       "      <td>種子寶可夢</td>\n",
       "      <td>Seed Pokémon</td>\n",
       "      <td>⭐️長在背上的大花能夠吸收太陽光，並轉換成能量。\\n⭐️把太陽的能源當成養分，開出碩大的花朵...</td>\n",
       "      <td>⭐️The plant blooms when it is absorbing solar ...</td>\n",
       "    </tr>\n",
       "    <tr>\n",
       "      <th>4</th>\n",
       "      <td>4. 小火龍</td>\n",
       "      <td>4</td>\n",
       "      <td>小火龍</td>\n",
       "      <td>Charmander</td>\n",
       "      <td>火</td>\n",
       "      <td></td>\n",
       "      <td>火</td>\n",
       "      <td>fire</td>\n",
       "      <td>蜥蜴寶可夢</td>\n",
       "      <td>Lizard Pokémon</td>\n",
       "      <td>⭐️要是把牠帶到安靜的地方，就能聽見牠的尾巴燃燒時發出的微小聲音。\\n⭐️天生喜歡熱熱的東西...</td>\n",
       "      <td>⭐️Obviously prefers hot places. When it rains,...</td>\n",
       "    </tr>\n",
       "    <tr>\n",
       "      <th>5</th>\n",
       "      <td>5. 火恐龍</td>\n",
       "      <td>5</td>\n",
       "      <td>火恐龍</td>\n",
       "      <td>Charmeleon</td>\n",
       "      <td>火</td>\n",
       "      <td></td>\n",
       "      <td>火</td>\n",
       "      <td>fire</td>\n",
       "      <td>火焰寶可夢</td>\n",
       "      <td>Flame Pokémon</td>\n",
       "      <td>⭐️在與強敵戰鬥的過程中，如果情緒變得興奮起來，有時會噴出藍白色的火焰。\\n⭐️揮動燃燒著火...</td>\n",
       "      <td>⭐️When it swings its burning tail, it elevates...</td>\n",
       "    </tr>\n",
       "  </tbody>\n",
       "</table>\n",
       "</div>"
      ],
      "text/plain": [
       "   ID_Name  ID  Name     Name_EN Type1 Type2  Type        Type_EN  Genus  \\\n",
       "1  1. 妙蛙種子   1  妙蛙種子   Bulbasaur     草     毒  草, 毒  grass, poison  種子寶可夢   \n",
       "2   2. 妙蛙草   2   妙蛙草     Ivysaur     草     毒  草, 毒  grass, poison  種子寶可夢   \n",
       "3   3. 妙蛙花   3   妙蛙花    Venusaur     草     毒  草, 毒  grass, poison  種子寶可夢   \n",
       "4   4. 小火龍   4   小火龍  Charmander     火           火           fire  蜥蜴寶可夢   \n",
       "5   5. 火恐龍   5   火恐龍  Charmeleon     火           火           fire  火焰寶可夢   \n",
       "\n",
       "         Genus_EN                                               Desc  \\\n",
       "1    Seed Pokémon  ⭐️背上的種子裡存著很多營養，所以就算好幾天不吃東西也能活得好好的！\\n⭐️從出生的時候開始...   \n",
       "2    Seed Pokémon  ⭐️在吸收了養分後，變大的花苞開始飄出香氣時，就表示快要開花了。\\n⭐️當背上的花苞長大之後...   \n",
       "3    Seed Pokémon  ⭐️長在背上的大花能夠吸收太陽光，並轉換成能量。\\n⭐️把太陽的能源當成養分，開出碩大的花朵...   \n",
       "4  Lizard Pokémon  ⭐️要是把牠帶到安靜的地方，就能聽見牠的尾巴燃燒時發出的微小聲音。\\n⭐️天生喜歡熱熱的東西...   \n",
       "5   Flame Pokémon  ⭐️在與強敵戰鬥的過程中，如果情緒變得興奮起來，有時會噴出藍白色的火焰。\\n⭐️揮動燃燒著火...   \n",
       "\n",
       "                                             Desc_EN  \n",
       "1  ⭐️A strange seed was planted on its back at bi...  \n",
       "2  ⭐️When the bulb on its back grows large, it ap...  \n",
       "3  ⭐️The plant blooms when it is absorbing solar ...  \n",
       "4  ⭐️Obviously prefers hot places. When it rains,...  \n",
       "5  ⭐️When it swings its burning tail, it elevates...  "
      ]
     },
     "execution_count": 12,
     "metadata": {},
     "output_type": "execute_result"
    }
   ],
   "source": [
    "pokemon_data = pd.json_normalize(data)\n",
    "pokemon_data.columns = ['ID', 'Name_EN', 'Name', \"Type_EN\", \"Type\", \"Genus_EN\", \"Genus\", \"Desc_EN\", \"Desc\"]\n",
    "pokemon_data[\"Type_EN\"] = [', '.join(map(str, lst)) for lst in pokemon_data[\"Type_EN\"]]\n",
    "pokemon_data[\"Type\"] = [', '.join(map(str, lst)) for lst in pokemon_data[\"Type\"]]\n",
    "pokemon_data[\"Desc_EN\"] = ['\\n⭐️'.join(map(str, lst)) for lst in pokemon_data[\"Desc_EN\"]]\n",
    "pokemon_data[\"Desc\"] = ['\\n⭐️'.join(map(str, lst)) for lst in pokemon_data[\"Desc\"]]\n",
    "pokemon_data[\"Desc_EN\"] = \"⭐️\" + pokemon_data[\"Desc_EN\"]\n",
    "pokemon_data[\"Desc\"] = \"⭐️\" + pokemon_data[\"Desc\"]\n",
    "pokemon_data[['Type1', 'Type2']] = pokemon_data[\"Type\"].str.split(\",\", expand = True)\n",
    "pokemon_data['Type2'] = pokemon_data['Type2'].apply(lambda x: x.strip() if x != None else \"\")\n",
    "pokemon_data[\"ID_Name\"] = pokemon_data[\"ID\"].astype(str) + \". \" + pokemon_data[\"Name\"]\n",
    "pokemon_data.index += 1 \n",
    "pokemon_data = pokemon_data[[\"ID_Name\",'ID', 'Name', 'Name_EN', \"Type1\", \"Type2\", \"Type\", \"Type_EN\", \n",
    "                             \"Genus\", \"Genus_EN\", \"Desc\", \"Desc_EN\"]]\n",
    "pokemon_data.head()"
   ]
  },
  {
   "cell_type": "code",
   "execution_count": null,
   "id": "844183ea",
   "metadata": {},
   "outputs": [],
   "source": []
  },
  {
   "cell_type": "code",
   "execution_count": null,
   "id": "afc68f51",
   "metadata": {},
   "outputs": [],
   "source": []
  },
  {
   "cell_type": "code",
   "execution_count": null,
   "id": "7a1b3bb2",
   "metadata": {},
   "outputs": [],
   "source": []
  },
  {
   "cell_type": "code",
   "execution_count": null,
   "id": "e572dd5e",
   "metadata": {},
   "outputs": [],
   "source": []
  },
  {
   "cell_type": "code",
   "execution_count": null,
   "id": "a67abd9e",
   "metadata": {},
   "outputs": [],
   "source": []
  },
  {
   "cell_type": "code",
   "execution_count": null,
   "id": "70127a4b",
   "metadata": {},
   "outputs": [],
   "source": []
  },
  {
   "cell_type": "code",
   "execution_count": null,
   "id": "895e636a",
   "metadata": {},
   "outputs": [],
   "source": []
  },
  {
   "cell_type": "code",
   "execution_count": null,
   "id": "480660a6",
   "metadata": {},
   "outputs": [],
   "source": []
  },
  {
   "cell_type": "code",
   "execution_count": null,
   "id": "b1bddcd7",
   "metadata": {},
   "outputs": [],
   "source": []
  },
  {
   "cell_type": "code",
   "execution_count": 5,
   "id": "958f6261",
   "metadata": {},
   "outputs": [
    {
     "name": "stdout",
     "output_type": "stream",
     "text": [
      "甲賀忍蛙\n"
     ]
    }
   ],
   "source": [
    "print(pokemon_data[\"Name\"][658])"
   ]
  },
  {
   "cell_type": "code",
   "execution_count": 6,
   "id": "e11fed66",
   "metadata": {},
   "outputs": [
    {
     "name": "stdout",
     "output_type": "stream",
     "text": [
      "⭐️將水壓縮，做出手裡劍。高速旋轉射出的手裡劍，就連金屬也能一分為二。\n",
      "⭐️如忍者般神出鬼沒。以敏捷的動作戲弄對手，再用水之手裡劍將其劈裂。\n"
     ]
    }
   ],
   "source": [
    "print(pokemon_data[\"Desc\"][658])"
   ]
  },
  {
   "cell_type": "code",
   "execution_count": 7,
   "id": "19ebf90d",
   "metadata": {},
   "outputs": [
    {
     "name": "stdout",
     "output_type": "stream",
     "text": [
      "水\n"
     ]
    }
   ],
   "source": [
    "print(pokemon_data[\"Type1\"][658])"
   ]
  },
  {
   "cell_type": "code",
   "execution_count": 8,
   "id": "5161fe74",
   "metadata": {},
   "outputs": [
    {
     "name": "stdout",
     "output_type": "stream",
     "text": [
      "惡\n"
     ]
    }
   ],
   "source": [
    "print(pokemon_data[\"Type2\"][658])"
   ]
  },
  {
   "cell_type": "code",
   "execution_count": 13,
   "id": "c17f66cc",
   "metadata": {
    "scrolled": true
   },
   "outputs": [
    {
     "data": {
      "text/html": [
       "<div>\n",
       "<style scoped>\n",
       "    .dataframe tbody tr th:only-of-type {\n",
       "        vertical-align: middle;\n",
       "    }\n",
       "\n",
       "    .dataframe tbody tr th {\n",
       "        vertical-align: top;\n",
       "    }\n",
       "\n",
       "    .dataframe thead th {\n",
       "        text-align: right;\n",
       "    }\n",
       "</style>\n",
       "<table border=\"1\" class=\"dataframe\">\n",
       "  <thead>\n",
       "    <tr style=\"text-align: right;\">\n",
       "      <th></th>\n",
       "      <th>ID_Name</th>\n",
       "      <th>ID</th>\n",
       "      <th>Name</th>\n",
       "      <th>Name_EN</th>\n",
       "      <th>Type1</th>\n",
       "      <th>Type2</th>\n",
       "      <th>Type</th>\n",
       "      <th>Type_EN</th>\n",
       "      <th>Genus</th>\n",
       "      <th>Genus_EN</th>\n",
       "      <th>Desc</th>\n",
       "      <th>Desc_EN</th>\n",
       "      <th>CCC</th>\n",
       "    </tr>\n",
       "  </thead>\n",
       "  <tbody>\n",
       "    <tr>\n",
       "      <th>740</th>\n",
       "      <td>740. 好勝毛蟹</td>\n",
       "      <td>740</td>\n",
       "      <td>好勝毛蟹</td>\n",
       "      <td>Crabominable</td>\n",
       "      <td>格鬥</td>\n",
       "      <td>冰</td>\n",
       "      <td>格鬥, 冰</td>\n",
       "      <td>fighting, ice</td>\n",
       "      <td>毛蟹寶可夢</td>\n",
       "      <td>Woolly Crab Pokémon</td>\n",
       "      <td>⭐️原本是為了超越顛峰而深入山中修行，卻走錯路登上雪山，在忍受寒冷的同時，毛髮不斷生長而產生...</td>\n",
       "      <td>⭐️It aimed for the top but got lost and ended ...</td>\n",
       "      <td>12</td>\n",
       "    </tr>\n",
       "    <tr>\n",
       "      <th>851</th>\n",
       "      <td>851. 焚焰蚣</td>\n",
       "      <td>851</td>\n",
       "      <td>焚焰蚣</td>\n",
       "      <td>Centiskorch</td>\n",
       "      <td>火</td>\n",
       "      <td>蟲</td>\n",
       "      <td>火, 蟲</td>\n",
       "      <td>fire, bug</td>\n",
       "      <td>發熱寶可夢</td>\n",
       "      <td>Radiator Pokémon</td>\n",
       "      <td>⭐️發熱時的體溫大約有８００度。會像鞭子那樣彎曲身體，朝著敵人彈跳過去。\\n⭐️性情極具攻擊...</td>\n",
       "      <td>⭐️When it heats up, its body temperature reach...</td>\n",
       "      <td>11</td>\n",
       "    </tr>\n",
       "    <tr>\n",
       "      <th>902</th>\n",
       "      <td>902. 幽尾玄魚</td>\n",
       "      <td>902</td>\n",
       "      <td>幽尾玄魚</td>\n",
       "      <td>Basculegion</td>\n",
       "      <td>水</td>\n",
       "      <td>幽靈</td>\n",
       "      <td>水, 幽靈</td>\n",
       "      <td>water, ghost</td>\n",
       "      <td>大魚寶可夢</td>\n",
       "      <td>Big Fish Pokémon</td>\n",
       "      <td>⭐️在溯河而上的旅程中半途喪命者的靈魂纏繞其身。在流經洗翠地區的河川裡可謂所向無敵。</td>\n",
       "      <td>⭐️Clads itself in the souls of comrades that p...</td>\n",
       "      <td>11</td>\n",
       "    </tr>\n",
       "    <tr>\n",
       "      <th>855</th>\n",
       "      <td>855. 怖思壺</td>\n",
       "      <td>855</td>\n",
       "      <td>怖思壺</td>\n",
       "      <td>Polteageist</td>\n",
       "      <td>幽靈</td>\n",
       "      <td></td>\n",
       "      <td>幽靈</td>\n",
       "      <td>ghost</td>\n",
       "      <td>紅茶寶可夢</td>\n",
       "      <td>Black Tea Pokémon</td>\n",
       "      <td>⭐️住在古董茶壺裡。雖然大多數都是贗品，但偶爾也能發現真貨。\\n⭐️每當發現喝剩的紅茶，牠就...</td>\n",
       "      <td>⭐️This species lives in antique teapots. Most ...</td>\n",
       "      <td>11</td>\n",
       "    </tr>\n",
       "    <tr>\n",
       "      <th>847</th>\n",
       "      <td>847. 戽斗尖梭</td>\n",
       "      <td>847</td>\n",
       "      <td>戽斗尖梭</td>\n",
       "      <td>Barraskewda</td>\n",
       "      <td>水</td>\n",
       "      <td></td>\n",
       "      <td>水</td>\n",
       "      <td>water</td>\n",
       "      <td>穿刺寶可夢</td>\n",
       "      <td>Skewer Pokémon</td>\n",
       "      <td>⭐️像長矛一樣尖銳的下巴擁有鋼鐵般的硬度。據說牠的肉好吃得驚人。\\n⭐️會旋轉著自己的尾鰭一...</td>\n",
       "      <td>⭐️This Pokémon has a jaw that’s as sharp as a ...</td>\n",
       "      <td>11</td>\n",
       "    </tr>\n",
       "  </tbody>\n",
       "</table>\n",
       "</div>"
      ],
      "text/plain": [
       "       ID_Name   ID  Name       Name_EN Type1 Type2   Type        Type_EN  \\\n",
       "740  740. 好勝毛蟹  740  好勝毛蟹  Crabominable    格鬥     冰  格鬥, 冰  fighting, ice   \n",
       "851   851. 焚焰蚣  851   焚焰蚣   Centiskorch     火     蟲   火, 蟲      fire, bug   \n",
       "902  902. 幽尾玄魚  902  幽尾玄魚   Basculegion     水    幽靈  水, 幽靈   water, ghost   \n",
       "855   855. 怖思壺  855   怖思壺   Polteageist    幽靈           幽靈          ghost   \n",
       "847  847. 戽斗尖梭  847  戽斗尖梭   Barraskewda     水            水          water   \n",
       "\n",
       "     Genus             Genus_EN  \\\n",
       "740  毛蟹寶可夢  Woolly Crab Pokémon   \n",
       "851  發熱寶可夢     Radiator Pokémon   \n",
       "902  大魚寶可夢     Big Fish Pokémon   \n",
       "855  紅茶寶可夢    Black Tea Pokémon   \n",
       "847  穿刺寶可夢       Skewer Pokémon   \n",
       "\n",
       "                                                  Desc  \\\n",
       "740  ⭐️原本是為了超越顛峰而深入山中修行，卻走錯路登上雪山，在忍受寒冷的同時，毛髮不斷生長而產生...   \n",
       "851  ⭐️發熱時的體溫大約有８００度。會像鞭子那樣彎曲身體，朝著敵人彈跳過去。\\n⭐️性情極具攻擊...   \n",
       "902         ⭐️在溯河而上的旅程中半途喪命者的靈魂纏繞其身。在流經洗翠地區的河川裡可謂所向無敵。   \n",
       "855  ⭐️住在古董茶壺裡。雖然大多數都是贗品，但偶爾也能發現真貨。\\n⭐️每當發現喝剩的紅茶，牠就...   \n",
       "847  ⭐️像長矛一樣尖銳的下巴擁有鋼鐵般的硬度。據說牠的肉好吃得驚人。\\n⭐️會旋轉著自己的尾鰭一...   \n",
       "\n",
       "                                               Desc_EN  CCC  \n",
       "740  ⭐️It aimed for the top but got lost and ended ...   12  \n",
       "851  ⭐️When it heats up, its body temperature reach...   11  \n",
       "902  ⭐️Clads itself in the souls of comrades that p...   11  \n",
       "855  ⭐️This species lives in antique teapots. Most ...   11  \n",
       "847  ⭐️This Pokémon has a jaw that’s as sharp as a ...   11  "
      ]
     },
     "execution_count": 13,
     "metadata": {},
     "output_type": "execute_result"
    }
   ],
   "source": [
    "pokemon_data[\"CCC\"] = pokemon_data[\"Name_EN\"].apply(lambda x:len(x))\n",
    "pokemon_data.sort_values(by=[\"CCC\"], ascending=False).head()"
   ]
  },
  {
   "cell_type": "code",
   "execution_count": null,
   "id": "8000f5ab",
   "metadata": {},
   "outputs": [],
   "source": []
  },
  {
   "cell_type": "code",
   "execution_count": null,
   "id": "ab63b025",
   "metadata": {},
   "outputs": [],
   "source": []
  },
  {
   "cell_type": "code",
   "execution_count": null,
   "id": "793df55b",
   "metadata": {},
   "outputs": [],
   "source": []
  },
  {
   "cell_type": "code",
   "execution_count": null,
   "id": "fbd823f7",
   "metadata": {},
   "outputs": [],
   "source": []
  },
  {
   "cell_type": "code",
   "execution_count": null,
   "id": "f23cf6b3",
   "metadata": {},
   "outputs": [],
   "source": []
  },
  {
   "cell_type": "code",
   "execution_count": null,
   "id": "836c4e13",
   "metadata": {},
   "outputs": [],
   "source": []
  },
  {
   "cell_type": "code",
   "execution_count": null,
   "id": "762a5b28",
   "metadata": {},
   "outputs": [],
   "source": [
    "data_source = \"https://raw.githubusercontent.com/rayc2045/pokedex/main/data/PokeApi.json\"\n",
    "json_url = urllib.request.urlopen(data_source)\n",
    "data = json.loads(json_url.read())\n",
    "data"
   ]
  },
  {
   "cell_type": "code",
   "execution_count": null,
   "id": "82eb0648",
   "metadata": {},
   "outputs": [],
   "source": [
    "pokemon_data = pd.json_normalize(data)\n",
    "pokemon_data"
   ]
  },
  {
   "cell_type": "code",
   "execution_count": null,
   "id": "bf4afd08",
   "metadata": {},
   "outputs": [],
   "source": []
  },
  {
   "cell_type": "code",
   "execution_count": null,
   "id": "642d42e7",
   "metadata": {},
   "outputs": [],
   "source": []
  },
  {
   "cell_type": "code",
   "execution_count": null,
   "id": "0441e15e",
   "metadata": {},
   "outputs": [],
   "source": []
  },
  {
   "cell_type": "code",
   "execution_count": null,
   "id": "01243b09",
   "metadata": {},
   "outputs": [],
   "source": []
  },
  {
   "cell_type": "code",
   "execution_count": null,
   "id": "c75fa987",
   "metadata": {},
   "outputs": [],
   "source": []
  },
  {
   "cell_type": "code",
   "execution_count": null,
   "id": "52a4c86a",
   "metadata": {},
   "outputs": [],
   "source": []
  },
  {
   "cell_type": "code",
   "execution_count": null,
   "id": "e850e531",
   "metadata": {},
   "outputs": [],
   "source": []
  },
  {
   "cell_type": "code",
   "execution_count": null,
   "id": "5845637c",
   "metadata": {},
   "outputs": [],
   "source": []
  },
  {
   "cell_type": "code",
   "execution_count": null,
   "id": "10057f0a",
   "metadata": {},
   "outputs": [],
   "source": []
  },
  {
   "cell_type": "code",
   "execution_count": null,
   "id": "ed877314",
   "metadata": {},
   "outputs": [],
   "source": [
    "data_source = \"https://raw.githubusercontent.com/DetainedDeveloper/Pokedex/master/pokedex_raw/pokedex_raw_array.json\"\n",
    "json_url = urllib.request.urlopen(data_source)\n",
    "data = json.loads(json_url.read())\n",
    "data"
   ]
  },
  {
   "cell_type": "code",
   "execution_count": null,
   "id": "361805c1",
   "metadata": {
    "scrolled": true
   },
   "outputs": [],
   "source": [
    "pokemon_data = pd.json_normalize(data)\n",
    "pokemon_data"
   ]
  },
  {
   "cell_type": "code",
   "execution_count": null,
   "id": "c033021e",
   "metadata": {
    "scrolled": true
   },
   "outputs": [],
   "source": [
    "pokemon_data = pd.json_normalize(data)[[\"id\",\"name\",\"height\",\"weight\",\"pokemon_url\",\"abilities\",\"types\"]]\n",
    "\n",
    "pokemon_data = pd.concat([pokemon_data.drop(['abilities'], axis=1), \n",
    "                          pd.DataFrame(pokemon_data['abilities'].tolist()).fillna('').add_prefix('ability_')], axis=1)\n",
    "pokemon_data = pd.concat([pokemon_data.drop(['types'], axis=1), \n",
    "                          pd.DataFrame(pokemon_data['types'].tolist()).fillna('').add_prefix('type_')], axis=1)\n",
    "\n",
    "pokemon_data[\"ability_0\"] = pokemon_data[\"ability_0\"].apply(lambda x: x[\"name\"] if x!=\"\" else \"\")\n",
    "pokemon_data"
   ]
  },
  {
   "cell_type": "code",
   "execution_count": null,
   "id": "d6fd2bb5",
   "metadata": {
    "scrolled": true
   },
   "outputs": [],
   "source": [
    "pokemon_data[\"ability_2\"].apply(lambda x: x[\"name\"] if x!=\"\" else \"\")"
   ]
  },
  {
   "cell_type": "code",
   "execution_count": null,
   "id": "d20f0c33",
   "metadata": {},
   "outputs": [],
   "source": []
  },
  {
   "cell_type": "code",
   "execution_count": null,
   "id": "9195fdb8",
   "metadata": {},
   "outputs": [],
   "source": []
  },
  {
   "cell_type": "code",
   "execution_count": null,
   "id": "c1e1c066",
   "metadata": {},
   "outputs": [],
   "source": []
  },
  {
   "cell_type": "code",
   "execution_count": null,
   "id": "d80a3d9f",
   "metadata": {},
   "outputs": [],
   "source": []
  },
  {
   "cell_type": "code",
   "execution_count": null,
   "id": "3ebbb3b8",
   "metadata": {},
   "outputs": [],
   "source": []
  },
  {
   "cell_type": "code",
   "execution_count": null,
   "id": "ccedc0b5",
   "metadata": {},
   "outputs": [],
   "source": []
  },
  {
   "cell_type": "code",
   "execution_count": null,
   "id": "0aac75f3",
   "metadata": {},
   "outputs": [],
   "source": []
  }
 ],
 "metadata": {
  "kernelspec": {
   "display_name": "Python 3 (ipykernel)",
   "language": "python",
   "name": "python3"
  },
  "language_info": {
   "codemirror_mode": {
    "name": "ipython",
    "version": 3
   },
   "file_extension": ".py",
   "mimetype": "text/x-python",
   "name": "python",
   "nbconvert_exporter": "python",
   "pygments_lexer": "ipython3",
   "version": "3.8.12"
  }
 },
 "nbformat": 4,
 "nbformat_minor": 5
}
