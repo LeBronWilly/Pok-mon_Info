{
 "cells": [
  {
   "cell_type": "code",
   "execution_count": null,
   "id": "26866beb",
   "metadata": {},
   "outputs": [],
   "source": [
    "# -*- coding: utf-8 -*-\n",
    "\"\"\"\n",
    "Created on 02/12, 2023\n",
    "@author: WillyF\n",
    "\n",
    "\"\"\"\n",
    "\n",
    "# https://github.com/rayc2045/pokedex\n",
    "# https://github.com/DetainedDeveloper/Pokedex\n",
    "# https://raw.githubusercontent.com/DetainedDeveloper/Pokedex/master/pokedex_raw/pokedex_raw_array.json\n",
    "# https://stackoverflow.com/questions/38231591/split-explode-a-column-of-dictionaries-into-separate-columns-with-pandas\n",
    "# https://practicaldatascience.co.uk/data-science/how-to-split-a-pandas-column-string-or-list-into-separate-columns\n",
    "# https://stackoverflow.com/questions/35491274/split-a-pandas-column-of-lists-into-multiple-columns\n",
    "# https://stackoverflow.com/questions/45306988/column-of-lists-convert-list-to-string-as-a-new-column\n",
    "# https://stackoverflow.com/questions/20167930/start-index-at-1-for-pandas-dataframe\n",
    "# https://www.geeksforgeeks.org/how-to-rename-columns-in-pandas-dataframe/\n",
    "# https://sparkbyexamples.com/pandas/pandas-split-column/\n",
    "# https://stackoverflow.com/questions/61095091/how-to-strip-and-split-in-pandas\n",
    "# https://stackoverflow.com/questions/20025882/add-a-string-prefix-to-each-value-in-a-string-column-using-pandas\n",
    "\n"
   ]
  },
  {
   "cell_type": "code",
   "execution_count": null,
   "id": "1fdbf106",
   "metadata": {},
   "outputs": [],
   "source": [
    "import pandas as pd\n",
    "import urllib.request\n",
    "import json\n",
    "import numpy as np\n",
    "# from glob import glob\n",
    "import os\n",
    "from warnings import filterwarnings\n",
    "filterwarnings(\"ignore\")\n",
    "pd.set_option('display.max_columns', 500)\n",
    "pd.set_option('display.max_rows', 500)"
   ]
  },
  {
   "cell_type": "code",
   "execution_count": null,
   "id": "895fdd96",
   "metadata": {
    "scrolled": true
   },
   "outputs": [],
   "source": [
    "species_strength = pd.read_csv(\"https://raw.githubusercontent.com/LeBronWilly/Pokemon_Info/main/data/info/Pokemon_Species_Strength_Updated.csv\", encoding='utf8').drop(columns=[\"#\"]).fillna(\"\")\n",
    "# species_strength.index += 1 \n",
    "species_strength.head(100)"
   ]
  },
  {
   "cell_type": "code",
   "execution_count": null,
   "id": "ad84e6fe",
   "metadata": {},
   "outputs": [],
   "source": [
    "# type_chart = pd.read_csv(\"https://raw.githubusercontent.com/LeBronWilly/Pokemon_Info/main/data/info/Type_Chart.csv\", encoding='utf8')\n",
    "# type_chart.index += 1 \n",
    "# type_chart"
   ]
  },
  {
   "cell_type": "code",
   "execution_count": null,
   "id": "e6daaf8a",
   "metadata": {},
   "outputs": [],
   "source": [
    "data_source = \"https://raw.githubusercontent.com/rayc2045/pokedex/main/data/PokeApi.json\"\n",
    "data_source = \"https://raw.githubusercontent.com/LeBronWilly/Pokemon_Info/main/data/info/PokeApi.json\"\n",
    "json_url = urllib.request.urlopen(data_source)\n",
    "data = json.loads(json_url.read())"
   ]
  },
  {
   "cell_type": "code",
   "execution_count": null,
   "id": "fa32d85e",
   "metadata": {
    "scrolled": true
   },
   "outputs": [],
   "source": [
    "pokemon_data = pd.json_normalize(data)\n",
    "pokemon_data.columns = ['ID', 'Name_EN', 'Name', \"Type_EN\", \"Type\", \"Genus_EN\", \"Genus\", \"Desc_EN\", \"Desc\"]\n",
    "# pokemon_data.drop(columns=[\"Type_EN\",\"Type\"],inplace=True)\n",
    "pokemon_data[\"Type_EN\"] = [', '.join(map(str, lst)) for lst in pokemon_data[\"Type_EN\"]]\n",
    "pokemon_data[\"Type\"] = [', '.join(map(str, lst)) for lst in pokemon_data[\"Type\"]]\n",
    "pokemon_data[\"Desc_EN\"] = ['\\n⭐️'.join(map(str, lst)) for lst in pokemon_data[\"Desc_EN\"]]\n",
    "pokemon_data[\"Desc\"] = ['\\n⭐️'.join(map(str, lst)) for lst in pokemon_data[\"Desc\"]]\n",
    "pokemon_data[\"Desc_EN\"] = \"⭐️\" + pokemon_data[\"Desc_EN\"]\n",
    "pokemon_data[\"Desc\"] = \"⭐️\" + pokemon_data[\"Desc\"]\n",
    "pokemon_data[['Type1', 'Type2']] = pokemon_data[\"Type\"].str.split(\",\", expand = True)\n",
    "pokemon_data['Type2'] = pokemon_data['Type2'].apply(lambda x: x.strip() if x != None else \"\")\n",
    "pokemon_data[\"Type_EN\"] = pokemon_data[\"Type_EN\"].str.title()\n",
    "pokemon_data[['Type1_EN', 'Type2_EN']] = pokemon_data[\"Type_EN\"].str.split(\",\", expand = True)\n",
    "pokemon_data['Type2_EN'] = pokemon_data['Type2_EN'].apply(lambda x: x.strip() if x != None else \"\")\n",
    "pokemon_data[\"ID_Name\"] = pokemon_data[\"ID\"].astype(str) + \". \" + pokemon_data[\"Name\"]\n",
    "pokemon_data[\"ID_Name_EN\"] = pokemon_data[\"ID\"].astype(str) + \". \" + pokemon_data[\"Name_EN\"]\n",
    "pokemon_data = species_strength.merge(pokemon_data, how=\"left\", on=\"ID\", validate=\"many_to_one\", suffixes=(\"_D\",None)).dropna(subset=['ID_Name'])\n",
    "# pokemon_data = pokemon_data.merge(species_strength.drop(columns=[\"#\",\"Name\"]), \n",
    "#                                   how=\"left\", on=\"ID\", validate=\"one_to_many\")\n",
    "pokemon_data = pokemon_data[['ID', \"ID_Name\",'Name',\"ID_Name_EN\", 'Name_EN', \n",
    "                             \"Type\",\"Type1\", \"Type2\", \"Type_EN\", \"Type1_EN\", \"Type2_EN\", \"Genus\", \"Genus_EN\", \n",
    "                             \"Name_Detail\",\"Name_D\",\"Type1_D\", \"Type2_D\", \"Type1_EN_D\", \"Type2_EN_D\",\n",
    "                             \"Desc\", \"Desc_EN\", \"HP\", \"Atk\", \"Def\", \"Sp. Atk\", \"Sp. Def\", \"Speed\",\"Species Strength\"]]\n",
    "# pokemon_data.index += 1\n",
    "pokemon_data[\"Name_Detail\"] = pokemon_data.apply(lambda x: x['Name_Detail'].replace(x['Name_D'],\"\").replace(\"(\",\"\").replace(\")\",\"\").replace(\"  \",\" \").strip(\" \").strip(\"-\"), axis=1)\n",
    "pokemon_data[\"Name_Detail\"] = pokemon_data[\"Name_Detail\"].apply(lambda x: \"Normal\" if x==\"\" else x)\n",
    "# pokemon_data[\"Name_Detail\"].replace({'Normal Forme': 'Normal'}, inplace=True)\n",
    "pokemon_data.rename(columns={\"Name_Detail\":\"Forme\"}, inplace=True)\n",
    "pokemon_data.drop(columns=[\"Name_D\"], inplace=True)\n",
    "pokemon_data.head(100)"
   ]
  },
  {
   "cell_type": "code",
   "execution_count": null,
   "id": "e87139e5",
   "metadata": {},
   "outputs": [],
   "source": []
  },
  {
   "cell_type": "code",
   "execution_count": null,
   "id": "832a7dbe",
   "metadata": {},
   "outputs": [],
   "source": [
    "\"\" in \"\""
   ]
  },
  {
   "cell_type": "code",
   "execution_count": null,
   "id": "1fafe38f",
   "metadata": {},
   "outputs": [],
   "source": [
    "# pokemon_data.to_excel(\"pokemon_data.xlsx\")"
   ]
  },
  {
   "cell_type": "code",
   "execution_count": null,
   "id": "259da3aa",
   "metadata": {},
   "outputs": [],
   "source": [
    "https://raw.githubusercontent.com/LeBronWilly/Pokemon_Info/main/data/images/official-artwork/718-50%25%20Forme.png"
   ]
  },
  {
   "cell_type": "code",
   "execution_count": null,
   "id": "0fc938ec",
   "metadata": {
    "scrolled": true
   },
   "outputs": [],
   "source": [
    "https://raw.githubusercontent.com/LeBronWilly/Pokemon_Info/main/data/images/official-artwork/718-10%25%20Forme.png"
   ]
  },
  {
   "cell_type": "code",
   "execution_count": null,
   "id": "a30d4d0d",
   "metadata": {},
   "outputs": [],
   "source": [
    "https://raw.githubusercontent.com/LeBronWilly/Pokemon_Info/main/data/images/official-artwork/741-Pa'u%20Style.png"
   ]
  },
  {
   "cell_type": "code",
   "execution_count": null,
   "id": "eec68d2f",
   "metadata": {},
   "outputs": [],
   "source": []
  },
  {
   "cell_type": "code",
   "execution_count": null,
   "id": "b5eef34a",
   "metadata": {},
   "outputs": [],
   "source": []
  },
  {
   "cell_type": "code",
   "execution_count": null,
   "id": "9e0443a5",
   "metadata": {},
   "outputs": [],
   "source": []
  },
  {
   "cell_type": "code",
   "execution_count": null,
   "id": "cc8fe2b3",
   "metadata": {},
   "outputs": [],
   "source": []
  },
  {
   "cell_type": "code",
   "execution_count": null,
   "id": "0ed0945e",
   "metadata": {},
   "outputs": [],
   "source": [
    "from github import Github\n",
    "\n",
    "# Create a Github instance using an access token or login credentials\n",
    "g = Github(\"XXXXX\")  ### Token has been deleted\n",
    "\n",
    "# Get the repository object\n",
    "repo = g.get_repo(\"LeBronWilly/Pokemon_Info\")\n",
    "\n",
    "# Get the list of files in the repository\n",
    "file_list = []\n",
    "contents = repo.get_contents(\"data/images/official-artwork\",page=1)\n",
    "while contents:\n",
    "    file_content = contents.pop(0)\n",
    "    if file_content.type == \"dir\":\n",
    "        contents.extend(repo.get_contents(file_content.path))\n",
    "    else:\n",
    "        file_list.append(file_content.path)\n",
    "\n",
    "# Print the list of filenames\n",
    "file_list"
   ]
  },
  {
   "cell_type": "code",
   "execution_count": null,
   "id": "fb95c6b9",
   "metadata": {},
   "outputs": [],
   "source": [
    "repo.get_contents(\"\")"
   ]
  },
  {
   "cell_type": "code",
   "execution_count": null,
   "id": "fb3115eb",
   "metadata": {},
   "outputs": [],
   "source": []
  },
  {
   "cell_type": "code",
   "execution_count": null,
   "id": "b64b1449",
   "metadata": {},
   "outputs": [],
   "source": []
  },
  {
   "cell_type": "code",
   "execution_count": null,
   "id": "1c61d74a",
   "metadata": {},
   "outputs": [],
   "source": []
  },
  {
   "cell_type": "code",
   "execution_count": null,
   "id": "7db356d2",
   "metadata": {},
   "outputs": [],
   "source": []
  },
  {
   "cell_type": "code",
   "execution_count": null,
   "id": "6bb68eec",
   "metadata": {},
   "outputs": [],
   "source": []
  },
  {
   "cell_type": "code",
   "execution_count": null,
   "id": "fcaedda8",
   "metadata": {},
   "outputs": [],
   "source": []
  },
  {
   "cell_type": "code",
   "execution_count": null,
   "id": "72d28870",
   "metadata": {},
   "outputs": [],
   "source": []
  },
  {
   "cell_type": "code",
   "execution_count": null,
   "id": "95af5a95",
   "metadata": {},
   "outputs": [],
   "source": []
  },
  {
   "cell_type": "code",
   "execution_count": null,
   "id": "76ec5933",
   "metadata": {},
   "outputs": [],
   "source": []
  },
  {
   "cell_type": "code",
   "execution_count": null,
   "id": "958f6261",
   "metadata": {},
   "outputs": [],
   "source": [
    "print(pokemon_data[\"Name\"][658])"
   ]
  },
  {
   "cell_type": "code",
   "execution_count": null,
   "id": "e11fed66",
   "metadata": {},
   "outputs": [],
   "source": [
    "print(pokemon_data[\"Desc\"][658])"
   ]
  },
  {
   "cell_type": "code",
   "execution_count": null,
   "id": "19ebf90d",
   "metadata": {},
   "outputs": [],
   "source": [
    "print(pokemon_data[\"Type1\"][658])"
   ]
  },
  {
   "cell_type": "code",
   "execution_count": null,
   "id": "5161fe74",
   "metadata": {},
   "outputs": [],
   "source": [
    "print(pokemon_data[\"Type2\"][658])"
   ]
  },
  {
   "cell_type": "code",
   "execution_count": null,
   "id": "c17f66cc",
   "metadata": {
    "scrolled": true
   },
   "outputs": [],
   "source": [
    "pokemon_data[\"CCC\"] = pokemon_data[\"Name_EN\"].apply(lambda x:len(x))\n",
    "pokemon_data.sort_values(by=[\"CCC\"], ascending=False).head()"
   ]
  },
  {
   "cell_type": "code",
   "execution_count": null,
   "id": "8000f5ab",
   "metadata": {},
   "outputs": [],
   "source": []
  },
  {
   "cell_type": "code",
   "execution_count": null,
   "id": "ab63b025",
   "metadata": {},
   "outputs": [],
   "source": []
  },
  {
   "cell_type": "code",
   "execution_count": null,
   "id": "793df55b",
   "metadata": {},
   "outputs": [],
   "source": []
  },
  {
   "cell_type": "code",
   "execution_count": null,
   "id": "fbd823f7",
   "metadata": {},
   "outputs": [],
   "source": []
  },
  {
   "cell_type": "code",
   "execution_count": null,
   "id": "f23cf6b3",
   "metadata": {},
   "outputs": [],
   "source": []
  },
  {
   "cell_type": "code",
   "execution_count": null,
   "id": "836c4e13",
   "metadata": {},
   "outputs": [],
   "source": []
  },
  {
   "cell_type": "code",
   "execution_count": null,
   "id": "762a5b28",
   "metadata": {},
   "outputs": [],
   "source": [
    "data_source = \"https://raw.githubusercontent.com/rayc2045/pokedex/main/data/PokeApi.json\"\n",
    "json_url = urllib.request.urlopen(data_source)\n",
    "data = json.loads(json_url.read())\n",
    "data"
   ]
  },
  {
   "cell_type": "code",
   "execution_count": null,
   "id": "82eb0648",
   "metadata": {},
   "outputs": [],
   "source": [
    "pokemon_data = pd.json_normalize(data)\n",
    "pokemon_data"
   ]
  },
  {
   "cell_type": "code",
   "execution_count": null,
   "id": "bf4afd08",
   "metadata": {},
   "outputs": [],
   "source": []
  },
  {
   "cell_type": "code",
   "execution_count": null,
   "id": "642d42e7",
   "metadata": {},
   "outputs": [],
   "source": []
  },
  {
   "cell_type": "code",
   "execution_count": null,
   "id": "0441e15e",
   "metadata": {},
   "outputs": [],
   "source": []
  },
  {
   "cell_type": "code",
   "execution_count": null,
   "id": "01243b09",
   "metadata": {},
   "outputs": [],
   "source": []
  },
  {
   "cell_type": "code",
   "execution_count": null,
   "id": "c75fa987",
   "metadata": {},
   "outputs": [],
   "source": []
  },
  {
   "cell_type": "code",
   "execution_count": null,
   "id": "52a4c86a",
   "metadata": {},
   "outputs": [],
   "source": []
  },
  {
   "cell_type": "code",
   "execution_count": null,
   "id": "e850e531",
   "metadata": {},
   "outputs": [],
   "source": []
  },
  {
   "cell_type": "code",
   "execution_count": null,
   "id": "5845637c",
   "metadata": {},
   "outputs": [],
   "source": []
  },
  {
   "cell_type": "code",
   "execution_count": null,
   "id": "10057f0a",
   "metadata": {},
   "outputs": [],
   "source": []
  },
  {
   "cell_type": "code",
   "execution_count": null,
   "id": "ed877314",
   "metadata": {},
   "outputs": [],
   "source": [
    "data_source = \"https://raw.githubusercontent.com/DetainedDeveloper/Pokedex/master/pokedex_raw/pokedex_raw_array.json\"\n",
    "json_url = urllib.request.urlopen(data_source)\n",
    "data = json.loads(json_url.read())\n",
    "data"
   ]
  },
  {
   "cell_type": "code",
   "execution_count": null,
   "id": "361805c1",
   "metadata": {
    "scrolled": true
   },
   "outputs": [],
   "source": [
    "pokemon_data = pd.json_normalize(data)\n",
    "pokemon_data"
   ]
  },
  {
   "cell_type": "code",
   "execution_count": null,
   "id": "c033021e",
   "metadata": {
    "scrolled": true
   },
   "outputs": [],
   "source": [
    "pokemon_data = pd.json_normalize(data)[[\"id\",\"name\",\"height\",\"weight\",\"pokemon_url\",\"abilities\",\"types\"]]\n",
    "\n",
    "pokemon_data = pd.concat([pokemon_data.drop(['abilities'], axis=1), \n",
    "                          pd.DataFrame(pokemon_data['abilities'].tolist()).fillna('').add_prefix('ability_')], axis=1)\n",
    "pokemon_data = pd.concat([pokemon_data.drop(['types'], axis=1), \n",
    "                          pd.DataFrame(pokemon_data['types'].tolist()).fillna('').add_prefix('type_')], axis=1)\n",
    "\n",
    "pokemon_data[\"ability_0\"] = pokemon_data[\"ability_0\"].apply(lambda x: x[\"name\"] if x!=\"\" else \"\")\n",
    "pokemon_data"
   ]
  },
  {
   "cell_type": "code",
   "execution_count": null,
   "id": "d6fd2bb5",
   "metadata": {
    "scrolled": true
   },
   "outputs": [],
   "source": [
    "pokemon_data[\"ability_2\"].apply(lambda x: x[\"name\"] if x!=\"\" else \"\")"
   ]
  },
  {
   "cell_type": "code",
   "execution_count": null,
   "id": "d20f0c33",
   "metadata": {},
   "outputs": [],
   "source": []
  },
  {
   "cell_type": "code",
   "execution_count": null,
   "id": "9195fdb8",
   "metadata": {},
   "outputs": [],
   "source": []
  },
  {
   "cell_type": "code",
   "execution_count": null,
   "id": "c1e1c066",
   "metadata": {},
   "outputs": [],
   "source": [
    "\"1\".zfill(3)"
   ]
  },
  {
   "cell_type": "code",
   "execution_count": null,
   "id": "d80a3d9f",
   "metadata": {},
   "outputs": [],
   "source": []
  },
  {
   "cell_type": "code",
   "execution_count": null,
   "id": "3ebbb3b8",
   "metadata": {},
   "outputs": [],
   "source": [
    "50000*1.815/100*27/365"
   ]
  },
  {
   "cell_type": "code",
   "execution_count": null,
   "id": "ccedc0b5",
   "metadata": {},
   "outputs": [],
   "source": []
  },
  {
   "cell_type": "code",
   "execution_count": null,
   "id": "0aac75f3",
   "metadata": {},
   "outputs": [],
   "source": [
    "67"
   ]
  },
  {
   "cell_type": "code",
   "execution_count": null,
   "id": "3629dcb6",
   "metadata": {},
   "outputs": [],
   "source": []
  },
  {
   "cell_type": "code",
   "execution_count": null,
   "id": "c10aefdf",
   "metadata": {},
   "outputs": [],
   "source": [
    "import requests\n",
    "from bs4 import BeautifulSoup\n",
    "\n",
    "# Define the target repository and file path\n",
    "repo_owner = \"LeBronWilly\"\n",
    "repo_name = \"Pokemon_Info\"\n",
    "file_path = \"data/images/official-artwork/\"\n",
    "\n",
    "# Define the list of functions to fetch\n",
    "functions_to_fetch = [\"get_meme()\", \"index()\"]\n",
    "\n",
    "# Send a GET request to the repository file page\n",
    "url = f\"https://raw.githubusercontent.com/{repo_owner}/{repo_name}/main/{file_path}\"\n",
    "print(url)\n",
    "response = requests.get(url)"
   ]
  },
  {
   "cell_type": "code",
   "execution_count": null,
   "id": "0f86ba7f",
   "metadata": {},
   "outputs": [],
   "source": [
    "\n",
    "\n",
    "# Parse the HTML content of the response\n",
    "soup = BeautifulSoup(response.text, 'html.parser')\n",
    "print(soup)\n",
    "# Find all the code blocks in the file content\n",
    "code_blocks = soup.find_all('div', class_='highlight')\n",
    "print(code_blocks)\n",
    "\n",
    "# Extract the requested functions from the code blocks\n",
    "functions = {}\n",
    "for code_block in code_blocks:\n",
    "# Check if the code block contains a function definition\n",
    "  if code_block.find('span', {'class': 'nf'}) and code_block.find('span', {'class': 'kd'}) == 'def':\n",
    "    function_name = code_block.find('span', {'class': 'nf'}).text\n",
    "    # Check if the function is in the list of functions to fetch\n",
    "    if function_name in functions_to_fetch:\n",
    "      function_code = code_block.find('pre').text\n",
    "      functions[function_name] = function_code\n",
    "      print(functions)\n",
    "\n",
    "# Print the extracted functions\n",
    "for function_name, function_code in functions.items():\n",
    "   print(f\"Function Name: {function_name}\\nFunction Code:\\n{function_code}\\n\")"
   ]
  },
  {
   "cell_type": "code",
   "execution_count": null,
   "id": "f182595b",
   "metadata": {},
   "outputs": [],
   "source": [
    "url = f\"https://github.com/LeBronWilly/Pokemon_Info/tree/main/data/images/official-artwork\"\n",
    "response = requests.get(url)\n",
    "soup = BeautifulSoup(response.text, 'html.parser')\n",
    "print(soup)"
   ]
  },
  {
   "cell_type": "code",
   "execution_count": null,
   "id": "28d42fa0",
   "metadata": {},
   "outputs": [],
   "source": []
  },
  {
   "cell_type": "code",
   "execution_count": null,
   "id": "75782e4a",
   "metadata": {},
   "outputs": [],
   "source": []
  },
  {
   "cell_type": "code",
   "execution_count": null,
   "id": "35c5eb27",
   "metadata": {},
   "outputs": [],
   "source": []
  },
  {
   "cell_type": "code",
   "execution_count": null,
   "id": "659e3cb7",
   "metadata": {},
   "outputs": [],
   "source": []
  },
  {
   "cell_type": "code",
   "execution_count": null,
   "id": "a8ac858f",
   "metadata": {},
   "outputs": [],
   "source": []
  }
 ],
 "metadata": {
  "kernelspec": {
   "display_name": "Python 3 (ipykernel)",
   "language": "python",
   "name": "python3"
  },
  "language_info": {
   "codemirror_mode": {
    "name": "ipython",
    "version": 3
   },
   "file_extension": ".py",
   "mimetype": "text/x-python",
   "name": "python",
   "nbconvert_exporter": "python",
   "pygments_lexer": "ipython3",
   "version": "3.8.12"
  }
 },
 "nbformat": 4,
 "nbformat_minor": 5
}
